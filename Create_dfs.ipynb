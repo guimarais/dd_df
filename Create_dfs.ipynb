{
 "cells": [
  {
   "cell_type": "code",
   "execution_count": 14,
   "metadata": {},
   "outputs": [
    {
     "name": "stdout",
     "output_type": "stream",
     "text": [
      "The autoreload extension is already loaded. To reload it, use:\n",
      "  %reload_ext autoreload\n"
     ]
    }
   ],
   "source": [
    "from dd_df import create_dd_df\n",
    "import pandas as pd\n",
    "import matplotlib.pyplot as plt\n",
    "import numpy as np\n",
    "%load_ext autoreload\n",
    "%autoreload 2\n",
    "#\n",
    "plt.style.use('helvet2')"
   ]
  },
  {
   "cell_type": "markdown",
   "metadata": {},
   "source": [
    "#### Creates and saves the dataframes"
   ]
  },
  {
   "cell_type": "code",
   "execution_count": 15,
   "metadata": {},
   "outputs": [
    {
     "name": "stderr",
     "output_type": "stream",
     "text": [
      "/afs/ipp/aug/ads-diags/common/python/lib/dd_20180216.py:117: RuntimeWarning: Warning by DDcsgnl (8.1): no calibration of data\n",
      "  warnings.warn(text.replace('\\x00','').strip(), RuntimeWarning)\n",
      "/afs/ipp/aug/ads-diags/common/python/lib/dd_20180216.py:117: RuntimeWarning: Warning by DDcsgrp (8.1): No PARAM_SET found\n",
      "  warnings.warn(text.replace('\\x00','').strip(), RuntimeWarning)\n"
     ]
    }
   ],
   "source": [
    "df_35156 = create_dd_df(shotnr=35156, tBegin=0.5, tEnd=6.5, dt=0.02, dne_data=['FVL', 'Ne', 18, 'AUGD', 21])\n",
    "df_35157 = create_dd_df(shotnr=35157, tBegin=0.5, tEnd=6.5, dt=0.02, dne_data=['FVL', 'Ne', 18, 'AUGD', 21])\n",
    "df_35158 = create_dd_df(shotnr=35158, tBegin=0.5, tEnd=6.5, dt=0.02, dne_data=['FVL', 'Ne', 18, 'AUGD', 21])\n",
    "df_35165 = create_dd_df(shotnr=35165, tBegin=0.5, tEnd=5.7, dt=0.02, dne_data=['FVL', 'Ne', 18, 'AUGD', 21])\n",
    "df_35156.to_csv('./Support_Files/df_35156.csv')\n",
    "df_35157.to_csv('./Support_Files/df_35157.csv')\n",
    "df_35158.to_csv('./Support_Files/df_35158.csv')\n",
    "df_35165.to_csv('./Support_Files/df_35165.csv')"
   ]
  },
  {
   "cell_type": "code",
   "execution_count": 35,
   "metadata": {},
   "outputs": [],
   "source": [
    "df_35167 = create_dd_df(shotnr=35167, tBegin=0.5, tEnd=6.5, dt=0.02, dne_data=['FVL', 'Ne', 18, 'AUGD', 21])\n",
    "df_35167.to_csv('./Support_Files/df_35167.csv')"
   ]
  },
  {
   "cell_type": "code",
   "execution_count": 34,
   "metadata": {},
   "outputs": [],
   "source": [
    "df_35356 = create_dd_df(shotnr=35356, tBegin=0.5, tEnd=6.0, dt=0.02, dne_data=['FVL', 'Ne', 18, 'AUGD', 21])\n",
    "df_35356.to_csv('./Support_Files/df_35356.csv')"
   ]
  },
  {
   "cell_type": "code",
   "execution_count": 36,
   "metadata": {},
   "outputs": [],
   "source": [
    "df_35358 = create_dd_df(shotnr=35358, tBegin=0.5, tEnd=6.5, dt=0.02, dne_data=['FVL', 'Ne', 18, 'AUGD', 21])\n",
    "df_35358.to_csv('./Support_Files/df_35358.csv')"
   ]
  },
  {
   "cell_type": "code",
   "execution_count": 40,
   "metadata": {},
   "outputs": [],
   "source": [
    "df_35381 = create_dd_df(shotnr=35381, tBegin=0.5, tEnd=5.0, dt=0.02, dne_data=['FVL', 'Ne', 18, 'AUGD', 21])\n",
    "df_35381.to_csv('./Support_Files/df_35381.csv')"
   ]
  },
  {
   "cell_type": "code",
   "execution_count": null,
   "metadata": {},
   "outputs": [],
   "source": []
  }
 ],
 "metadata": {
  "kernelspec": {
   "display_name": "Python 2",
   "language": "python",
   "name": "python2"
  },
  "language_info": {
   "codemirror_mode": {
    "name": "ipython",
    "version": 2
   },
   "file_extension": ".py",
   "mimetype": "text/x-python",
   "name": "python",
   "nbconvert_exporter": "python",
   "pygments_lexer": "ipython2",
   "version": "2.7.13"
  }
 },
 "nbformat": 4,
 "nbformat_minor": 2
}
