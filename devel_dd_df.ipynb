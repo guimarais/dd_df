{
 "cells": [
  {
   "cell_type": "code",
   "execution_count": 1,
   "metadata": {},
   "outputs": [],
   "source": [
    "import dd\n",
    "import pandas as pd\n",
    "import matplotlib.pyplot as plt\n",
    "import numpy as np\n",
    "from getsig import getsig\n",
    "from scipy.interpolate import interp1d\n",
    "from scipy.signal import medfilt\n",
    "#\n",
    "plt.style.use('helvet2')"
   ]
  },
  {
   "cell_type": "markdown",
   "metadata": {},
   "source": [
    "#### Select a shotnumber and a time array "
   ]
  },
  {
   "cell_type": "code",
   "execution_count": 3,
   "metadata": {},
   "outputs": [],
   "source": [
    "shotnr = 30554\n",
    "tBegin = 1.0\n",
    "tEnd = 6.5\n",
    "dt = 0.1\n",
    "times = np.arange(tBegin, tEnd+dt, dt)"
   ]
  },
  {
   "cell_type": "code",
   "execution_count": 4,
   "metadata": {},
   "outputs": [
    {
     "name": "stderr",
     "output_type": "stream",
     "text": [
      "/afs/ipp/aug/ads-diags/common/python/lib/dd_20180216.py:117: RuntimeWarning: Warning by DDcsgnl (8.1): no calibration of data\n",
      "  warnings.warn(text.replace('\\x00','').strip(), RuntimeWarning)\n",
      "/afs/ipp/aug/ads-diags/common/python/lib/dd_20180216.py:117: RuntimeWarning: Warning by DDcsgrp (8.1): No PARAM_SET found\n",
      "  warnings.warn(text.replace('\\x00','').strip(), RuntimeWarning)\n"
     ]
    }
   ],
   "source": [
    "beta = getsig(shotnr, 'TOT', 'beta_N')\n",
    "wmhd = getsig(shotnr, 'TOT', 'Wmhd')\n",
    "taue = getsig(shotnr, 'TOT', 'tau_tot')\n",
    "h98 = getsig(shotnr, 'TTH', 'H/L-facs')\n",
    "h98y2_index = 7"
   ]
  },
  {
   "cell_type": "code",
   "execution_count": 5,
   "metadata": {},
   "outputs": [],
   "source": [
    "nev_shotfile = 'DNE'\n",
    "nev_signal = 'neDdel_2'\n",
    "nev_channel = 17\n",
    "nev_experiment = 'sfp'\n",
    "medfilt_pts = 21\n",
    "\n",
    "dne = getsig(shotnr, nev_shotfile, nev_signal, exper=nev_experiment)"
   ]
  },
  {
   "cell_type": "code",
   "execution_count": 6,
   "metadata": {},
   "outputs": [],
   "source": [
    "interp_beta = interp1d(beta.time, beta.data)\n",
    "beta_df_entry = interp_beta(times)\n",
    "\n",
    "interp_wmhd = interp1d(wmhd.time, wmhd.data)\n",
    "wmhd_df_entry = interp_wmhd(times)\n",
    "\n",
    "interp_taue = interp1d(taue.time, taue.data)\n",
    "taue_df_entry = interp_taue(times)\n",
    "\n",
    "interp_h98 = interp1d(h98.time, h98.data[:,h98y2_index])\n",
    "h98_df_entry = interp_h98(times)\n",
    "\n",
    "interp_nev = interp1d(dne.time, medfilt(dne.data[:, nev_channel], medfilt_pts))\n",
    "nev_df_entry = interp_nev(times)"
   ]
  },
  {
   "cell_type": "code",
   "execution_count": 7,
   "metadata": {},
   "outputs": [],
   "source": [
    "dict_df = {'time':times, 'nev':nev_df_entry, 'h98y2':h98_df_entry, 'taue':taue_df_entry, 'beta':beta_df_entry, 'wmhd':wmhd_df_entry}\n",
    "ddf = pd.DataFrame(data=dict_df)\n",
    "df = ddf[['time','nev','beta','taue','h98y2','wmhd']]"
   ]
  },
  {
   "cell_type": "code",
   "execution_count": 8,
   "metadata": {},
   "outputs": [
    {
     "data": {
      "text/html": [
       "<div>\n",
       "<style scoped>\n",
       "    .dataframe tbody tr th:only-of-type {\n",
       "        vertical-align: middle;\n",
       "    }\n",
       "\n",
       "    .dataframe tbody tr th {\n",
       "        vertical-align: top;\n",
       "    }\n",
       "\n",
       "    .dataframe thead th {\n",
       "        text-align: right;\n",
       "    }\n",
       "</style>\n",
       "<table border=\"1\" class=\"dataframe\">\n",
       "  <thead>\n",
       "    <tr style=\"text-align: right;\">\n",
       "      <th></th>\n",
       "      <th>time</th>\n",
       "      <th>nev</th>\n",
       "      <th>beta</th>\n",
       "      <th>taue</th>\n",
       "      <th>h98y2</th>\n",
       "      <th>wmhd</th>\n",
       "    </tr>\n",
       "  </thead>\n",
       "  <tbody>\n",
       "    <tr>\n",
       "      <th>0</th>\n",
       "      <td>1.0</td>\n",
       "      <td>1.938533e+19</td>\n",
       "      <td>0.219025</td>\n",
       "      <td>0.060995</td>\n",
       "      <td>0.377433</td>\n",
       "      <td>70724.625062</td>\n",
       "    </tr>\n",
       "    <tr>\n",
       "      <th>1</th>\n",
       "      <td>1.1</td>\n",
       "      <td>4.421253e+19</td>\n",
       "      <td>0.427349</td>\n",
       "      <td>0.076347</td>\n",
       "      <td>0.576177</td>\n",
       "      <td>146936.124257</td>\n",
       "    </tr>\n",
       "    <tr>\n",
       "      <th>2</th>\n",
       "      <td>1.2</td>\n",
       "      <td>1.155996e+19</td>\n",
       "      <td>0.905335</td>\n",
       "      <td>0.140809</td>\n",
       "      <td>0.979908</td>\n",
       "      <td>335258.718751</td>\n",
       "    </tr>\n",
       "    <tr>\n",
       "      <th>3</th>\n",
       "      <td>1.3</td>\n",
       "      <td>0.000000e+00</td>\n",
       "      <td>1.097278</td>\n",
       "      <td>0.132876</td>\n",
       "      <td>1.062062</td>\n",
       "      <td>416174.395867</td>\n",
       "    </tr>\n",
       "    <tr>\n",
       "      <th>4</th>\n",
       "      <td>1.4</td>\n",
       "      <td>0.000000e+00</td>\n",
       "      <td>1.303435</td>\n",
       "      <td>0.114760</td>\n",
       "      <td>1.103102</td>\n",
       "      <td>502025.595322</td>\n",
       "    </tr>\n",
       "  </tbody>\n",
       "</table>\n",
       "</div>"
      ],
      "text/plain": [
       "   time           nev      beta      taue     h98y2           wmhd\n",
       "0   1.0  1.938533e+19  0.219025  0.060995  0.377433   70724.625062\n",
       "1   1.1  4.421253e+19  0.427349  0.076347  0.576177  146936.124257\n",
       "2   1.2  1.155996e+19  0.905335  0.140809  0.979908  335258.718751\n",
       "3   1.3  0.000000e+00  1.097278  0.132876  1.062062  416174.395867\n",
       "4   1.4  0.000000e+00  1.303435  0.114760  1.103102  502025.595322"
      ]
     },
     "execution_count": 8,
     "metadata": {},
     "output_type": "execute_result"
    }
   ],
   "source": [
    "df.head()"
   ]
  },
  {
   "cell_type": "code",
   "execution_count": 9,
   "metadata": {},
   "outputs": [],
   "source": [
    "writer = pd.ExcelWriter('./Support_Files/output_30554.xlsx')\n",
    "df.to_excel(writer,'Sheet1')"
   ]
  },
  {
   "cell_type": "code",
   "execution_count": 10,
   "metadata": {},
   "outputs": [],
   "source": [
    "def df_dd(shotnr=30554, tBegin=1.0, tEnd=6.5, dt=0.1,\n",
    "          dne_data=['DNE','neDdel_2',17,'sfp',21],\n",
    "          ouput_file=None):\n",
    "    \"\"\"Returns a pandas dataframe\"\"\"\n",
    "    times = np.arange(tBegin, tEnd+dt, dt)\n",
    "    \n",
    "    beta = getsig(shotnr, 'TOT', 'beta_N')\n",
    "    wmhd = getsig(shotnr, 'TOT', 'Wmhd')\n",
    "    taue = getsig(shotnr, 'TOT', 'tau_tot')\n",
    "    h98 = getsig(shotnr, 'TTH', 'H/L-facs')\n",
    "    h98y2_index = 7\n",
    "    \n",
    "    nev_shotfile = 'DNE'\n",
    "    nev_signal = 'neDdel_2'\n",
    "    nev_channel = 17\n",
    "    nev_experiment = 'sfp'\n",
    "    medfilt_pts = 21\n",
    "\n",
    "    #Divertor Spectroscpy data\n",
    "    nev_shotfile = dne_data[0]\n",
    "    nev_signal = dne_data[1]\n",
    "    nev_channel = int(dne_data[2])\n",
    "    nev_experiment = dne_data[3]\n",
    "    medfilt_pts = int(dne_data[4])\n",
    "\n",
    "    dne = getsig(shotnr, nev_shotfile, nev_signal, exper=nev_experiment)\n",
    "    \n",
    "    #Interpolations\n",
    "    interp_beta = interp1d(beta.time, beta.data)\n",
    "    beta_df_entry = interp_beta(times)\n",
    "\n",
    "    interp_wmhd = interp1d(wmhd.time, wmhd.data)\n",
    "    wmhd_df_entry = interp_wmhd(times)\n",
    "\n",
    "    interp_taue = interp1d(taue.time, taue.data)\n",
    "    taue_df_entry = interp_taue(times)\n",
    "\n",
    "    interp_h98 = interp1d(h98.time, h98.data[:,h98y2_index])\n",
    "    h98_df_entry = interp_h98(times)\n",
    "\n",
    "    interp_nev = interp1d(dne.time, medfilt(dne.data[:, nev_channel], medfilt_pts))\n",
    "    nev_df_entry = interp_nev(times)\n",
    "    \n",
    "    dict_df = {'time':times, 'nev':nev_df_entry, 'h98y2':h98_df_entry, 'taue':taue_df_entry, 'beta':beta_df_entry, 'wmhd':wmhd_df_entry}\n",
    "    ddf = pd.DataFrame(data=dict_df)\n",
    "    df = ddf[['time','nev','beta','taue','h98y2','wmhd']]\n",
    "    \n",
    "    #if output_file is not None:\n",
    "    #    writer = pd.ExcelWriter(output_file)\n",
    "    #    df.to_excel(writer,'Sheet1')\n",
    "    \n",
    "    return df"
   ]
  },
  {
   "cell_type": "code",
   "execution_count": 20,
   "metadata": {},
   "outputs": [],
   "source": [
    "df_35156 = df_dd(shotnr=35156, tBegin=0.5, tEnd=6.5, dt=0.02, dne_data=['FVL', 'Ne', 18, 'AUGD', 21])\n",
    "df_35157 = df_dd(shotnr=35157, tBegin=0.5, tEnd=6.5, dt=0.02, dne_data=['FVL', 'Ne', 18, 'AUGD', 21])\n",
    "df_35158 = df_dd(shotnr=35158, tBegin=0.5, tEnd=6.5, dt=0.02, dne_data=['FVL', 'Ne', 18, 'AUGD', 21])"
   ]
  },
  {
   "cell_type": "code",
   "execution_count": 19,
   "metadata": {},
   "outputs": [],
   "source": [
    "df_35165 = df_dd(shotnr=35165, tBegin=0.5, tEnd=5.7, dt=0.02, dne_data=['FVL', 'Ne', 18, 'AUGD', 21])"
   ]
  },
  {
   "cell_type": "code",
   "execution_count": null,
   "metadata": {},
   "outputs": [],
   "source": [
    "df_35167 = df_dd(shotnr=35167, tBegin=0.5, tEnd=6.5, dt=0.02, dne_data=['FVL', 'Ne', 18, 'AUGD', 21])\n",
    "df_35356 = df_dd(shotnr=35356, tBegin=0.5, tEnd=6.5, dt=0.02, dne_data=['FVL', 'Ne', 18, 'AUGD', 21])\n",
    "df_35358 = df_dd(shotnr=35358, tBegin=0.5, tEnd=6.5, dt=0.02, dne_data=['FVL', 'Ne', 18, 'AUGD', 21])\n",
    "df_35381 = df_dd(shotnr=35381, tBegin=0.5, tEnd=6.5, dt=0.02, dne_data=['FVL', 'Ne', 18, 'AUGD', 21])"
   ]
  },
  {
   "cell_type": "code",
   "execution_count": 21,
   "metadata": {},
   "outputs": [],
   "source": [
    "df_35156.to_csv('./Support_Files/df_35156.csv')\n",
    "df_35157.to_csv('./Support_Files/df_35157.csv')\n",
    "df_35158.to_csv('./Support_Files/df_35158.csv')\n",
    "df_35165.to_csv('./Support_Files/df_35165.csv')"
   ]
  },
  {
   "cell_type": "code",
   "execution_count": 2,
   "metadata": {},
   "outputs": [],
   "source": [
    "from dd_df import get_shot_title"
   ]
  },
  {
   "cell_type": "code",
   "execution_count": 12,
   "metadata": {},
   "outputs": [
    {
     "name": "stdout",
     "output_type": "stream",
     "text": [
      "\\#35158 Power exhaust with mixed impurities\u0000\u0000\u0000\u0000\u0000\u0000\u0000\u0000\u0000\u0000\u0000\u0000\u0000\u0000\u0000\u0000\u0000\u0000\u0000\u0000\u0000\u0000\u0000\u0000\u0000\u0000\u0000\u0000\u0000\u0000\u0000\u0000\u0000\u0000\u0000\u0000\u0000\u0000\u0000\u0000\u0000\u0000\u0000\u0000\u0000\u0000\u0000\u0000\u0000\u0000\u0000\u0000\u0000\u0000\u0000\u0000\u0000\u0000\u0000\u0000\u0000\u0000\u0000\u0000\u0000\u0000\u0000\u0000\u0000\u0000\u0000\u0000\u0000\u0000\u0000\u0000\u0000\u0000\u0000\u0000\u0000\u0000\u0000\u0000\u0000\u0000\u0000\u0000\u0000\u0000\u0000\u0000\u0000\u0000\u0000\u0000\u0000\u0000\u0000\u0000\u0000\u0000\u0000\u0000\u0000\u0000\u0000\u0000\u0000\u0000\u0000\u0000\u0000\u0000\u0000\u0000\u0000\u0000\u0000\u0000\u0000\u0000\u0000\u0000\u0000\u0000\u0000\u0000\u0000\u0000\u0000\u0000\u0000\u0000\u0000\u0000\u0000\u0000\u0000\u0000\u0000\u0000\u0000\u0000\u0000\u0000\u0000\u0000\u0000\u0000\u0000\u0000\u0000\u0000\u0000\u0000\u0000\u0000\u0000\u0000\u0000\u0000\u0000\u0000\u0000\u0000\u0000\u0000\u0000\u0000\u0000\u0000\u0000\u0000\u0000\u0000\u0000\u0000\u0000\u0000\u0000\u0000\u0000\u0000\u0000\u0000\u0000\u0000\u0000\u0000\u0000\u0000\u0000\u0000\u0000\u0000\u0000\u0000\u0000\u0000\u0000\u0000\u0000\u0000\u0000\u0000\u0000\u0000\u0000\u0000\u0000\u0000\u0000\u0000\u0000\u0000\u0000\u0000\u0000\u0000\u0000\u0000\u0000\u0000\u0000\u0000\u0000\u0000\u0000\u0000\u0000\u0000\u0000\u0000\u0000\u0000\u0000\u0000\u0000\u0000\u0000\u0000\u0000\u0000\u0000\u0000\u0000\u0000\u0000\u0000\u0000\u0000\u0000\u0000\u0000\u0000\u0000\u0000\u0000\u0000\u0000\u0000\u0000\u0000\u0000\u0000\u0000\u0000\u0000\u0000\u0000\u0000\u0000\u0000\u0000\u0000\u0000\u0000\u0000\u0000\u0000\u0000\u0000\u0000\u0000\u0000\u0000\u0000\u0000\u0000\u0000\u0000\u0000\u0000\u0000\u0000\u0000\u0000\u0000\u0000\u0000\u0000\u0000\u0000\u0000\u0000\u0000\u0000\u0000\u0000\u0000\u0000\u0000\u0000\u0000\u0000\u0000\u0000\u0000\u0000\u0000\u0000\u0000\u0000\u0000\u0000\u0000\u0000\u0000\u0000\u0000\u0000\u0000\u0000\u0000\u0000\u0000\u0000\u0000\u0000\u0000\u0000\u0000\u0000\u0000\u0000\u0000\u0000\u0000\u0000\u0000\u0000\u0000\u0000\u0000\u0000\u0000\u0000\u0000\u0000\u0000\n",
      "\\#35157 Power exhaust with mixed impurities\n"
     ]
    }
   ],
   "source": [
    "print(get_shot_title(35158))\n",
    "print(get_shot_title(35157))"
   ]
  },
  {
   "cell_type": "code",
   "execution_count": 10,
   "metadata": {},
   "outputs": [
    {
     "name": "stdout",
     "output_type": "stream",
     "text": [
      "\\#35158 Power exhaust with mixed impurities\u0000\u0000\u0000\u0000\u0000\u0000\u0000\u0000\u0000\u0000\u0000\u0000\u0000\u0000\u0000\u0000\u0000\u0000\u0000\u0000\u0000\u0000\u0000\u0000\u0000\u0000\u0000\u0000\u0000\u0000\u0000\u0000\u0000\u0000\u0000\u0000\u0000\u0000\u0000\u0000\u0000\u0000\u0000\u0000\u0000\u0000\u0000\u0000\u0000\u0000\u0000\u0000\u0000\u0000\u0000\u0000\u0000\u0000\u0000\u0000\u0000\u0000\u0000\u0000\u0000\u0000\u0000\u0000\u0000\u0000\u0000\u0000\u0000\u0000\u0000\u0000\u0000\u0000\u0000\u0000\u0000\u0000\u0000\u0000\u0000\u0000\u0000\u0000\u0000\u0000\u0000\u0000\u0000\u0000\u0000\u0000\u0000\u0000\u0000\u0000\u0000\u0000\u0000\u0000\u0000\u0000\u0000\u0000\u0000\u0000\u0000\u0000\u0000\u0000\u0000\u0000\u0000\u0000\u0000\u0000\u0000\u0000\u0000\u0000\u0000\u0000\u0000\u0000\u0000\u0000\u0000\u0000\u0000\u0000\u0000\u0000\u0000\u0000\u0000\u0000\u0000\u0000\u0000\u0000\u0000\u0000\u0000\u0000\u0000\u0000\u0000\u0000\u0000\u0000\u0000\u0000\u0000\u0000\u0000\u0000\u0000\u0000\u0000\u0000\u0000\u0000\u0000\u0000\u0000\u0000\u0000\u0000\u0000\u0000\u0000\u0000\u0000\u0000\u0000\u0000\u0000\u0000\u0000\u0000\u0000\u0000\u0000\u0000\u0000\u0000\u0000\u0000\u0000\u0000\u0000\u0000\u0000\u0000\u0000\u0000\u0000\u0000\u0000\u0000\u0000\u0000\u0000\u0000\u0000\u0000\u0000\u0000\u0000\u0000\u0000\u0000\u0000\u0000\u0000\u0000\u0000\u0000\u0000\u0000\u0000\u0000\u0000\u0000\u0000\u0000\u0000\u0000\u0000\u0000\u0000\u0000\u0000\u0000\u0000\u0000\u0000\u0000\u0000\u0000\u0000\u0000\u0000\u0000\u0000\u0000\u0000\u0000\u0000\u0000\u0000\u0000\u0000\u0000\u0000\u0000\u0000\u0000\u0000\u0000\u0000\u0000\u0000\u0000\u0000\u0000\u0000\u0000\u0000\u0000\u0000\u0000\u0000\u0000\u0000\u0000\u0000\u0000\u0000\u0000\u0000\u0000\u0000\u0000\u0000\u0000\u0000\u0000\u0000\u0000\u0000\u0000\u0000\u0000\u0000\u0000\u0000\u0000\u0000\u0000\u0000\u0000\u0000\u0000\u0000\u0000\u0000\u0000\u0000\u0000\u0000\u0000\u0000\u0000\u0000\u0000\u0000\u0000\u0000\u0000\u0000\u0000\u0000\u0000\u0000\u0000\u0000\u0000\u0000\u0000\u0000\u0000\u0000\u0000\u0000\u0000\u0000\u0000\u0000\u0000\u0000\u0000\u0000\u0000\u0000\u0000\u0000\u0000\u0000\u0000\u0000\u0000\u0000\u0000\u0000\u0000\u0000\n"
     ]
    }
   ],
   "source": []
  },
  {
   "cell_type": "code",
   "execution_count": null,
   "metadata": {},
   "outputs": [],
   "source": []
  }
 ],
 "metadata": {
  "kernelspec": {
   "display_name": "Python 2",
   "language": "python",
   "name": "python2"
  },
  "language_info": {
   "codemirror_mode": {
    "name": "ipython",
    "version": 2
   },
   "file_extension": ".py",
   "mimetype": "text/x-python",
   "name": "python",
   "nbconvert_exporter": "python",
   "pygments_lexer": "ipython2",
   "version": "2.7.13"
  }
 },
 "nbformat": 4,
 "nbformat_minor": 2
}
